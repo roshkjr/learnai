{
 "cells": [
  {
   "cell_type": "code",
   "execution_count": 1,
   "id": "c185db87-8e0d-49f5-ac3c-8b9272142183",
   "metadata": {},
   "outputs": [],
   "source": [
    "from fastai.text.all import *"
   ]
  },
  {
   "cell_type": "code",
   "execution_count": 2,
   "id": "321e8c22-decb-46dd-bdb8-294deaf38e4a",
   "metadata": {},
   "outputs": [],
   "source": [
    "path = untar_data(URLs.HUMAN_NUMBERS)"
   ]
  },
  {
   "cell_type": "code",
   "execution_count": 3,
   "id": "88dc2f6d-8e26-45c1-8222-fcdb929ab5a6",
   "metadata": {},
   "outputs": [],
   "source": [
    "Path.BASE_PATH = path"
   ]
  },
  {
   "cell_type": "code",
   "execution_count": 4,
   "id": "5f4ceed5-4ebc-4dec-aa70-8d3d25705670",
   "metadata": {},
   "outputs": [
    {
     "data": {
      "text/plain": [
       "(#2) [Path('valid.txt'),Path('train.txt')]"
      ]
     },
     "execution_count": 4,
     "metadata": {},
     "output_type": "execute_result"
    }
   ],
   "source": [
    "path.ls()"
   ]
  },
  {
   "cell_type": "code",
   "execution_count": 5,
   "id": "5a027156-ef86-46fa-a3a7-4842a45a7b41",
   "metadata": {},
   "outputs": [
    {
     "data": {
      "text/plain": [
       "(#9998) ['one \\n','two \\n','three \\n','four \\n','five \\n','six \\n','seven \\n','eight \\n','nine \\n','ten \\n','eleven \\n','twelve \\n','thirteen \\n','fourteen \\n','fifteen \\n','sixteen \\n','seventeen \\n','eighteen \\n','nineteen \\n','twenty \\n'...]"
      ]
     },
     "execution_count": 5,
     "metadata": {},
     "output_type": "execute_result"
    }
   ],
   "source": [
    "lines = L()\n",
    "with open(path/'train.txt') as f: lines += L(*f.readlines())\n",
    "with open(path/'valid.txt') as f: lines += L(*f.readlines())\n",
    "lines"
   ]
  },
  {
   "cell_type": "markdown",
   "id": "a462ca45-f7a4-4ae1-8f86-3066065bcc63",
   "metadata": {},
   "source": [
    "# Preprocessing"
   ]
  },
  {
   "cell_type": "markdown",
   "id": "67126e09-5677-43cb-b6ac-f9fe54ad6347",
   "metadata": {},
   "source": [
    "## Tokenisation"
   ]
  },
  {
   "cell_type": "code",
   "execution_count": 6,
   "id": "122cc4c5-86fe-4dab-8f2b-8c41315f8cd0",
   "metadata": {},
   "outputs": [],
   "source": [
    "text = ' . '.join(l.strip() for l in lines)"
   ]
  },
  {
   "cell_type": "code",
   "execution_count": 8,
   "id": "72d20cc4-a29c-4dcd-ba3b-4207974f828e",
   "metadata": {},
   "outputs": [
    {
     "data": {
      "text/plain": [
       "'one . two . three . four . five . six . seven . eight . nine . ten . eleven . twelve . thirteen . fo'"
      ]
     },
     "execution_count": 8,
     "metadata": {},
     "output_type": "execute_result"
    }
   ],
   "source": [
    "text[:100]"
   ]
  },
  {
   "cell_type": "code",
   "execution_count": 8,
   "id": "160b2813-8bce-48f6-bd4a-af2f63a03b2f",
   "metadata": {},
   "outputs": [
    {
     "data": {
      "text/plain": [
       "['one', '.', 'two', '.', 'three', '.', 'four', '.', 'five', '.']"
      ]
     },
     "execution_count": 8,
     "metadata": {},
     "output_type": "execute_result"
    }
   ],
   "source": [
    "tokens = text.split(' ')\n",
    "tokens[:10]"
   ]
  },
  {
   "cell_type": "markdown",
   "id": "edeb37b5-20bc-4c23-b81b-82805386726a",
   "metadata": {},
   "source": [
    "## Numericalisation"
   ]
  },
  {
   "cell_type": "code",
   "execution_count": 9,
   "id": "937158cc-ecb2-478d-904e-272fe89aafb2",
   "metadata": {},
   "outputs": [
    {
     "data": {
      "text/plain": [
       "(#30) ['one','.','two','three','four','five','six','seven','eight','nine','ten','eleven','twelve','thirteen','fourteen','fifteen','sixteen','seventeen','eighteen','nineteen'...]"
      ]
     },
     "execution_count": 9,
     "metadata": {},
     "output_type": "execute_result"
    }
   ],
   "source": [
    "vocab = L(*tokens).unique()\n",
    "vocab"
   ]
  },
  {
   "cell_type": "code",
   "execution_count": 11,
   "id": "bd4eb49f-d9a1-46b8-94e2-fc55e70dd602",
   "metadata": {},
   "outputs": [
    {
     "data": {
      "text/plain": [
       "(#63095) [0,1,2,1,3,1,4,1,5,1,6,1,7,1,8,1,9,1,10,1...]"
      ]
     },
     "execution_count": 11,
     "metadata": {},
     "output_type": "execute_result"
    }
   ],
   "source": [
    "word2idx = {w:i for i, w in enumerate(vocab)}\n",
    "nums = L(word2idx[w] for w in tokens)\n",
    "nums"
   ]
  },
  {
   "cell_type": "markdown",
   "id": "011598ce-2732-4974-b490-8a57177e04c1",
   "metadata": {},
   "source": [
    "## Self-supervising data set"
   ]
  },
  {
   "cell_type": "code",
   "execution_count": 12,
   "id": "09a1a911-b4ae-48fc-af91-4067305ca12e",
   "metadata": {},
   "outputs": [],
   "source": [
    "sl = 16\n",
    "seqs = L((tensor(nums[i:i+sl]), tensor(nums[i+1: i+1+sl])) for i in range(0, len(nums)-sl-1, sl))"
   ]
  },
  {
   "cell_type": "code",
   "execution_count": 14,
   "id": "f4213def-059b-4ed8-ab5b-74d7e39e2908",
   "metadata": {},
   "outputs": [
    {
     "data": {
      "text/plain": [
       "(tensor([0, 1, 2, 1, 3, 1, 4, 1, 5, 1, 6, 1, 7, 1, 8, 1]),\n",
       " tensor([1, 2, 1, 3, 1, 4, 1, 5, 1, 6, 1, 7, 1, 8, 1, 9]))"
      ]
     },
     "execution_count": 14,
     "metadata": {},
     "output_type": "execute_result"
    }
   ],
   "source": [
    "seqs[0]"
   ]
  },
  {
   "cell_type": "code",
   "execution_count": 13,
   "id": "a6761c7b-1bbb-468d-a491-7e6806071cba",
   "metadata": {},
   "outputs": [],
   "source": [
    "BATCHSIZE = 64"
   ]
  },
  {
   "cell_type": "code",
   "execution_count": 14,
   "id": "d67e5f68-65d3-4945-8f89-8d7a2bfbda8c",
   "metadata": {},
   "outputs": [],
   "source": [
    "def group_chunks(ds, bs):\n",
    "    m = len(ds) // bs\n",
    "    new_ds = L()\n",
    "    for i in range(m): new_ds += L(ds[i + m*j] for j in range(bs))\n",
    "    return new_ds"
   ]
  },
  {
   "cell_type": "code",
   "execution_count": 15,
   "id": "8a1f2c64-9237-4b9d-8783-a477f92fae82",
   "metadata": {},
   "outputs": [],
   "source": [
    "cut = int(len(seqs)*0.8)\n",
    "dls = DataLoaders.from_dsets(\n",
    "    group_chunks(seqs[:cut], BATCHSIZE), \n",
    "    group_chunks(seqs[cut:], BATCHSIZE), \n",
    "    bs=BATCHSIZE, drop_last=True, shuffle=False)"
   ]
  },
  {
   "cell_type": "code",
   "execution_count": 18,
   "id": "fb9d5885-7b3a-45ab-a69c-ee15f127554c",
   "metadata": {},
   "outputs": [
    {
     "data": {
      "text/plain": [
       "49"
      ]
     },
     "execution_count": 18,
     "metadata": {},
     "output_type": "execute_result"
    }
   ],
   "source": [
    "len(seqs[:cut]) // BATCHSIZE"
   ]
  },
  {
   "cell_type": "code",
   "execution_count": 19,
   "id": "b25aa3a9-cffa-4fac-9692-db199084be99",
   "metadata": {},
   "outputs": [
    {
     "data": {
      "text/plain": [
       "(tensor([ 2, 28, 11,  1,  2, 28, 12,  1,  2, 28, 13,  1,  2, 28, 14,  1]),\n",
       " tensor([28, 11,  1,  2, 28, 12,  1,  2, 28, 13,  1,  2, 28, 14,  1,  2]))"
      ]
     },
     "execution_count": 19,
     "metadata": {},
     "output_type": "execute_result"
    }
   ],
   "source": [
    "seqs[49]"
   ]
  },
  {
   "cell_type": "markdown",
   "id": "6786eb3d-2252-4b94-af79-aa73aef80233",
   "metadata": {},
   "source": [
    "## Vanillla RNN"
   ]
  },
  {
   "cell_type": "code",
   "execution_count": 41,
   "id": "0175ca16-e61b-4604-9978-a1868bd8c071",
   "metadata": {},
   "outputs": [],
   "source": [
    "class RNN(Module):\n",
    "    def __init__(self, vocab_sz, n_hidden, sl):\n",
    "        self.i_h = nn.Embedding(vocab_sz, n_hidden)\n",
    "        self.h_h = nn.Linear(n_hidden, n_hidden)\n",
    "        self.h_o = nn.Linear(n_hidden, vocab_sz)\n",
    "        self.sl = sl\n",
    "        self.h = 0\n",
    "\n",
    "    def forward(self, x):\n",
    "        outs = []\n",
    "        for i in range(self.sl):\n",
    "            self.h = self.h + self.i_h(x[:,i])\n",
    "            self.h = F.relu(self.h_h(self.h))\n",
    "            outs.append(self.h_o(self.h))\n",
    "        self.h = self.h.detach()\n",
    "        return torch.stack(outs, dim=1)\n",
    "\n",
    "    def reset(self):\n",
    "        self.h = 0\n",
    "        "
   ]
  },
  {
   "cell_type": "code",
   "execution_count": 35,
   "id": "107d723c-e46b-4dab-9ef6-8966604c56de",
   "metadata": {},
   "outputs": [],
   "source": [
    "def loss_func(inp, targ):\n",
    "    return F.cross_entropy(inp.view(-1, len(vocab)), targ.view(-1))"
   ]
  },
  {
   "cell_type": "code",
   "execution_count": 44,
   "id": "6ec53256-43ed-4eb9-8326-14d432c8f9c0",
   "metadata": {},
   "outputs": [],
   "source": [
    "simple_rnn = RNN(len(vocab), 64, 16)"
   ]
  },
  {
   "cell_type": "code",
   "execution_count": 45,
   "id": "a341d73a-47e4-4c5f-a820-b46a19088c30",
   "metadata": {},
   "outputs": [
    {
     "data": {
      "text/html": [
       "\n",
       "<style>\n",
       "    /* Turns off some styling */\n",
       "    progress {\n",
       "        /* gets rid of default border in Firefox and Opera. */\n",
       "        border: none;\n",
       "        /* Needs to be in here for Safari polyfill so background images work as expected. */\n",
       "        background-size: auto;\n",
       "    }\n",
       "    progress:not([value]), progress:not([value])::-webkit-progress-bar {\n",
       "        background: repeating-linear-gradient(45deg, #7e7e7e, #7e7e7e 10px, #5c5c5c 10px, #5c5c5c 20px);\n",
       "    }\n",
       "    .progress-bar-interrupted, .progress-bar-interrupted::-webkit-progress-bar {\n",
       "        background: #F44336;\n",
       "    }\n",
       "</style>\n"
      ],
      "text/plain": [
       "<IPython.core.display.HTML object>"
      ]
     },
     "metadata": {},
     "output_type": "display_data"
    },
    {
     "data": {
      "text/html": [
       "<table border=\"1\" class=\"dataframe\">\n",
       "  <thead>\n",
       "    <tr style=\"text-align: left;\">\n",
       "      <th>epoch</th>\n",
       "      <th>train_loss</th>\n",
       "      <th>valid_loss</th>\n",
       "      <th>accuracy</th>\n",
       "      <th>time</th>\n",
       "    </tr>\n",
       "  </thead>\n",
       "  <tbody>\n",
       "    <tr>\n",
       "      <td>0</td>\n",
       "      <td>3.175631</td>\n",
       "      <td>2.992774</td>\n",
       "      <td>0.252523</td>\n",
       "      <td>00:01</td>\n",
       "    </tr>\n",
       "    <tr>\n",
       "      <td>1</td>\n",
       "      <td>2.304283</td>\n",
       "      <td>1.980272</td>\n",
       "      <td>0.470215</td>\n",
       "      <td>00:01</td>\n",
       "    </tr>\n",
       "    <tr>\n",
       "      <td>2</td>\n",
       "      <td>1.744542</td>\n",
       "      <td>1.825861</td>\n",
       "      <td>0.462240</td>\n",
       "      <td>00:01</td>\n",
       "    </tr>\n",
       "    <tr>\n",
       "      <td>3</td>\n",
       "      <td>1.458490</td>\n",
       "      <td>1.819294</td>\n",
       "      <td>0.515951</td>\n",
       "      <td>00:01</td>\n",
       "    </tr>\n",
       "    <tr>\n",
       "      <td>4</td>\n",
       "      <td>1.287225</td>\n",
       "      <td>1.792837</td>\n",
       "      <td>0.526042</td>\n",
       "      <td>00:01</td>\n",
       "    </tr>\n",
       "    <tr>\n",
       "      <td>5</td>\n",
       "      <td>1.158036</td>\n",
       "      <td>1.798218</td>\n",
       "      <td>0.576497</td>\n",
       "      <td>00:01</td>\n",
       "    </tr>\n",
       "    <tr>\n",
       "      <td>6</td>\n",
       "      <td>1.053031</td>\n",
       "      <td>1.829944</td>\n",
       "      <td>0.563151</td>\n",
       "      <td>00:01</td>\n",
       "    </tr>\n",
       "    <tr>\n",
       "      <td>7</td>\n",
       "      <td>0.957125</td>\n",
       "      <td>1.841787</td>\n",
       "      <td>0.602458</td>\n",
       "      <td>00:01</td>\n",
       "    </tr>\n",
       "    <tr>\n",
       "      <td>8</td>\n",
       "      <td>0.870648</td>\n",
       "      <td>1.840455</td>\n",
       "      <td>0.604329</td>\n",
       "      <td>00:01</td>\n",
       "    </tr>\n",
       "    <tr>\n",
       "      <td>9</td>\n",
       "      <td>0.808551</td>\n",
       "      <td>2.009990</td>\n",
       "      <td>0.618490</td>\n",
       "      <td>00:01</td>\n",
       "    </tr>\n",
       "    <tr>\n",
       "      <td>10</td>\n",
       "      <td>0.745166</td>\n",
       "      <td>2.090009</td>\n",
       "      <td>0.636475</td>\n",
       "      <td>00:01</td>\n",
       "    </tr>\n",
       "    <tr>\n",
       "      <td>11</td>\n",
       "      <td>0.697224</td>\n",
       "      <td>2.124721</td>\n",
       "      <td>0.649007</td>\n",
       "      <td>00:01</td>\n",
       "    </tr>\n",
       "    <tr>\n",
       "      <td>12</td>\n",
       "      <td>0.660483</td>\n",
       "      <td>2.061587</td>\n",
       "      <td>0.652344</td>\n",
       "      <td>00:01</td>\n",
       "    </tr>\n",
       "    <tr>\n",
       "      <td>13</td>\n",
       "      <td>0.637566</td>\n",
       "      <td>2.073960</td>\n",
       "      <td>0.651855</td>\n",
       "      <td>00:01</td>\n",
       "    </tr>\n",
       "    <tr>\n",
       "      <td>14</td>\n",
       "      <td>0.624804</td>\n",
       "      <td>2.078892</td>\n",
       "      <td>0.651937</td>\n",
       "      <td>00:01</td>\n",
       "    </tr>\n",
       "  </tbody>\n",
       "</table>"
      ],
      "text/plain": [
       "<IPython.core.display.HTML object>"
      ]
     },
     "metadata": {},
     "output_type": "display_data"
    }
   ],
   "source": [
    "learn = Learner(dls, simple_rnn, loss_func = loss_func, metrics=accuracy, cbs=ModelResetter)\n",
    "learn.fit_one_cycle(15, 3e-3)"
   ]
  },
  {
   "cell_type": "code",
   "execution_count": 27,
   "id": "7e685c65-f662-41dc-be61-35e31e37d999",
   "metadata": {},
   "outputs": [],
   "source": [
    "class LSTM(Module):\n",
    "    def __init__(self, vocab_size, n_layers, n_hidden, batch_size):\n",
    "        self.ih = nn.Embedding(vocab_size, n_hidden)\n",
    "        self.rnn = nn.LSTM(n_hidden, n_hidden, n_layers, batch_first=True) \n",
    "        self.ho = nn.Linear(n_hidden, vocab_size)\n",
    "        self.h = [torch.zeros(n_layers, batch_size, n_hidden) for _ in range(2)]\n",
    "\n",
    "    def forward(self, x):\n",
    "        res, h = self.rnn(self.ih(x), self.h)\n",
    "        self.h = [h_.detach() for h_ in h]\n",
    "        return self.ho(res)\n",
    "\n",
    "    def reset(self):\n",
    "        for h in self.h: h.zero_()\n",
    "        "
   ]
  },
  {
   "cell_type": "code",
   "execution_count": 28,
   "id": "8df605ee-9382-4a58-a621-0c768af8759b",
   "metadata": {},
   "outputs": [
    {
     "data": {
      "text/html": [
       "\n",
       "<style>\n",
       "    /* Turns off some styling */\n",
       "    progress {\n",
       "        /* gets rid of default border in Firefox and Opera. */\n",
       "        border: none;\n",
       "        /* Needs to be in here for Safari polyfill so background images work as expected. */\n",
       "        background-size: auto;\n",
       "    }\n",
       "    progress:not([value]), progress:not([value])::-webkit-progress-bar {\n",
       "        background: repeating-linear-gradient(45deg, #7e7e7e, #7e7e7e 10px, #5c5c5c 10px, #5c5c5c 20px);\n",
       "    }\n",
       "    .progress-bar-interrupted, .progress-bar-interrupted::-webkit-progress-bar {\n",
       "        background: #F44336;\n",
       "    }\n",
       "</style>\n"
      ],
      "text/plain": [
       "<IPython.core.display.HTML object>"
      ]
     },
     "metadata": {},
     "output_type": "display_data"
    },
    {
     "data": {
      "text/html": [
       "<table border=\"1\" class=\"dataframe\">\n",
       "  <thead>\n",
       "    <tr style=\"text-align: left;\">\n",
       "      <th>epoch</th>\n",
       "      <th>train_loss</th>\n",
       "      <th>valid_loss</th>\n",
       "      <th>accuracy</th>\n",
       "      <th>time</th>\n",
       "    </tr>\n",
       "  </thead>\n",
       "  <tbody>\n",
       "    <tr>\n",
       "      <td>0</td>\n",
       "      <td>2.981228</td>\n",
       "      <td>2.659369</td>\n",
       "      <td>0.311849</td>\n",
       "      <td>00:02</td>\n",
       "    </tr>\n",
       "    <tr>\n",
       "      <td>1</td>\n",
       "      <td>2.007059</td>\n",
       "      <td>1.904348</td>\n",
       "      <td>0.321696</td>\n",
       "      <td>00:01</td>\n",
       "    </tr>\n",
       "    <tr>\n",
       "      <td>2</td>\n",
       "      <td>1.552929</td>\n",
       "      <td>1.738283</td>\n",
       "      <td>0.416748</td>\n",
       "      <td>00:01</td>\n",
       "    </tr>\n",
       "    <tr>\n",
       "      <td>3</td>\n",
       "      <td>1.253639</td>\n",
       "      <td>1.701052</td>\n",
       "      <td>0.547770</td>\n",
       "      <td>00:01</td>\n",
       "    </tr>\n",
       "    <tr>\n",
       "      <td>4</td>\n",
       "      <td>0.953825</td>\n",
       "      <td>1.770578</td>\n",
       "      <td>0.628418</td>\n",
       "      <td>00:01</td>\n",
       "    </tr>\n",
       "    <tr>\n",
       "      <td>5</td>\n",
       "      <td>0.664577</td>\n",
       "      <td>1.567581</td>\n",
       "      <td>0.690918</td>\n",
       "      <td>00:01</td>\n",
       "    </tr>\n",
       "    <tr>\n",
       "      <td>6</td>\n",
       "      <td>0.427357</td>\n",
       "      <td>1.527407</td>\n",
       "      <td>0.751709</td>\n",
       "      <td>00:01</td>\n",
       "    </tr>\n",
       "    <tr>\n",
       "      <td>7</td>\n",
       "      <td>0.261472</td>\n",
       "      <td>1.688289</td>\n",
       "      <td>0.776367</td>\n",
       "      <td>00:01</td>\n",
       "    </tr>\n",
       "    <tr>\n",
       "      <td>8</td>\n",
       "      <td>0.159606</td>\n",
       "      <td>1.574700</td>\n",
       "      <td>0.767741</td>\n",
       "      <td>00:01</td>\n",
       "    </tr>\n",
       "    <tr>\n",
       "      <td>9</td>\n",
       "      <td>0.103017</td>\n",
       "      <td>1.575075</td>\n",
       "      <td>0.776855</td>\n",
       "      <td>00:01</td>\n",
       "    </tr>\n",
       "    <tr>\n",
       "      <td>10</td>\n",
       "      <td>0.070491</td>\n",
       "      <td>1.531915</td>\n",
       "      <td>0.776774</td>\n",
       "      <td>00:01</td>\n",
       "    </tr>\n",
       "    <tr>\n",
       "      <td>11</td>\n",
       "      <td>0.052266</td>\n",
       "      <td>1.570982</td>\n",
       "      <td>0.778076</td>\n",
       "      <td>00:01</td>\n",
       "    </tr>\n",
       "    <tr>\n",
       "      <td>12</td>\n",
       "      <td>0.041824</td>\n",
       "      <td>1.582829</td>\n",
       "      <td>0.778158</td>\n",
       "      <td>00:01</td>\n",
       "    </tr>\n",
       "    <tr>\n",
       "      <td>13</td>\n",
       "      <td>0.036026</td>\n",
       "      <td>1.605480</td>\n",
       "      <td>0.777344</td>\n",
       "      <td>00:01</td>\n",
       "    </tr>\n",
       "    <tr>\n",
       "      <td>14</td>\n",
       "      <td>0.033118</td>\n",
       "      <td>1.573710</td>\n",
       "      <td>0.779460</td>\n",
       "      <td>00:01</td>\n",
       "    </tr>\n",
       "  </tbody>\n",
       "</table>"
      ],
      "text/plain": [
       "<IPython.core.display.HTML object>"
      ]
     },
     "metadata": {},
     "output_type": "display_data"
    }
   ],
   "source": [
    "lstm = LSTM(len(vocab), 1, 64, BATCHSIZE)\n",
    "lstm_learn = Learner(dls, lstm, loss_func=CrossEntropyLossFlat(),\n",
    "           metrics=accuracy, cbs=ModelResetter)\n",
    "lstm_learn.fit_one_cycle(15, 1e-2)"
   ]
  },
  {
   "cell_type": "code",
   "execution_count": 39,
   "id": "223e2685-f43c-46d5-9344-be2119ef31bb",
   "metadata": {},
   "outputs": [],
   "source": [
    "class AWDLSTM(Module):\n",
    "    def __init__(self, vocab_sz, n_hidden, n_layers, batch_size, drop_out_p):\n",
    "        self.ih = nn.Embedding(vocab_sz, n_hidden)\n",
    "        self.rnn = nn.LSTM(n_hidden, n_hidden, n_layers, batch_first=True)\n",
    "        self.drop = nn.Dropout(drop_out_p)\n",
    "        self.ho = nn.Linear(n_hidden, vocab_sz)\n",
    "        self.ho.weight = self.ih.weight #weight tying\n",
    "        self.h = [torch.zeros(n_layers, batch_size, n_hidden) for _ in range(2)]\n",
    "\n",
    "    def forward(self, x):\n",
    "        raw, h = self.rnn(self.ih(x), self.h)\n",
    "        out = self.drop(raw)\n",
    "        self.h = [h_.detach() for h_ in h]\n",
    "        return self.ho(out), raw, out\n",
    "\n",
    "    def reset(self):\n",
    "        for h in self.h: h.zero_()"
   ]
  },
  {
   "cell_type": "code",
   "execution_count": 40,
   "id": "47894c88-e07b-4773-84d5-444973f6e39c",
   "metadata": {},
   "outputs": [],
   "source": [
    "awd_learn = Learner(dls, AWDLSTM(len(vocab), 64, 2, BATCHSIZE, 0.5),\n",
    "                loss_func=CrossEntropyLossFlat(), metrics=accuracy,\n",
    "                cbs=[ModelResetter, RNNCallback, RNNRegularizer(alpha=2, beta=1)])"
   ]
  },
  {
   "cell_type": "code",
   "execution_count": 41,
   "id": "6dbc8476-ac63-440b-b405-58ca35e2de32",
   "metadata": {},
   "outputs": [
    {
     "data": {
      "text/html": [
       "\n",
       "<style>\n",
       "    /* Turns off some styling */\n",
       "    progress {\n",
       "        /* gets rid of default border in Firefox and Opera. */\n",
       "        border: none;\n",
       "        /* Needs to be in here for Safari polyfill so background images work as expected. */\n",
       "        background-size: auto;\n",
       "    }\n",
       "    progress:not([value]), progress:not([value])::-webkit-progress-bar {\n",
       "        background: repeating-linear-gradient(45deg, #7e7e7e, #7e7e7e 10px, #5c5c5c 10px, #5c5c5c 20px);\n",
       "    }\n",
       "    .progress-bar-interrupted, .progress-bar-interrupted::-webkit-progress-bar {\n",
       "        background: #F44336;\n",
       "    }\n",
       "</style>\n"
      ],
      "text/plain": [
       "<IPython.core.display.HTML object>"
      ]
     },
     "metadata": {},
     "output_type": "display_data"
    },
    {
     "data": {
      "text/html": [
       "<table border=\"1\" class=\"dataframe\">\n",
       "  <thead>\n",
       "    <tr style=\"text-align: left;\">\n",
       "      <th>epoch</th>\n",
       "      <th>train_loss</th>\n",
       "      <th>valid_loss</th>\n",
       "      <th>accuracy</th>\n",
       "      <th>time</th>\n",
       "    </tr>\n",
       "  </thead>\n",
       "  <tbody>\n",
       "    <tr>\n",
       "      <td>0</td>\n",
       "      <td>2.838563</td>\n",
       "      <td>2.282286</td>\n",
       "      <td>0.437174</td>\n",
       "      <td>00:01</td>\n",
       "    </tr>\n",
       "    <tr>\n",
       "      <td>1</td>\n",
       "      <td>1.913846</td>\n",
       "      <td>1.755160</td>\n",
       "      <td>0.536784</td>\n",
       "      <td>00:01</td>\n",
       "    </tr>\n",
       "    <tr>\n",
       "      <td>2</td>\n",
       "      <td>1.147236</td>\n",
       "      <td>0.954735</td>\n",
       "      <td>0.735026</td>\n",
       "      <td>00:01</td>\n",
       "    </tr>\n",
       "    <tr>\n",
       "      <td>3</td>\n",
       "      <td>0.593927</td>\n",
       "      <td>0.565308</td>\n",
       "      <td>0.843750</td>\n",
       "      <td>00:01</td>\n",
       "    </tr>\n",
       "    <tr>\n",
       "      <td>4</td>\n",
       "      <td>0.309942</td>\n",
       "      <td>0.541855</td>\n",
       "      <td>0.842855</td>\n",
       "      <td>00:01</td>\n",
       "    </tr>\n",
       "    <tr>\n",
       "      <td>5</td>\n",
       "      <td>0.181693</td>\n",
       "      <td>0.456560</td>\n",
       "      <td>0.856771</td>\n",
       "      <td>00:01</td>\n",
       "    </tr>\n",
       "    <tr>\n",
       "      <td>6</td>\n",
       "      <td>0.117939</td>\n",
       "      <td>0.420669</td>\n",
       "      <td>0.869548</td>\n",
       "      <td>00:01</td>\n",
       "    </tr>\n",
       "    <tr>\n",
       "      <td>7</td>\n",
       "      <td>0.087703</td>\n",
       "      <td>0.391323</td>\n",
       "      <td>0.881104</td>\n",
       "      <td>00:01</td>\n",
       "    </tr>\n",
       "    <tr>\n",
       "      <td>8</td>\n",
       "      <td>0.070003</td>\n",
       "      <td>0.375363</td>\n",
       "      <td>0.877360</td>\n",
       "      <td>00:01</td>\n",
       "    </tr>\n",
       "    <tr>\n",
       "      <td>9</td>\n",
       "      <td>0.059786</td>\n",
       "      <td>0.349775</td>\n",
       "      <td>0.893636</td>\n",
       "      <td>00:01</td>\n",
       "    </tr>\n",
       "    <tr>\n",
       "      <td>10</td>\n",
       "      <td>0.053371</td>\n",
       "      <td>0.350740</td>\n",
       "      <td>0.888184</td>\n",
       "      <td>00:01</td>\n",
       "    </tr>\n",
       "    <tr>\n",
       "      <td>11</td>\n",
       "      <td>0.048087</td>\n",
       "      <td>0.330435</td>\n",
       "      <td>0.898682</td>\n",
       "      <td>00:01</td>\n",
       "    </tr>\n",
       "    <tr>\n",
       "      <td>12</td>\n",
       "      <td>0.044208</td>\n",
       "      <td>0.342123</td>\n",
       "      <td>0.892008</td>\n",
       "      <td>00:01</td>\n",
       "    </tr>\n",
       "    <tr>\n",
       "      <td>13</td>\n",
       "      <td>0.041666</td>\n",
       "      <td>0.347393</td>\n",
       "      <td>0.892741</td>\n",
       "      <td>00:01</td>\n",
       "    </tr>\n",
       "    <tr>\n",
       "      <td>14</td>\n",
       "      <td>0.040121</td>\n",
       "      <td>0.343243</td>\n",
       "      <td>0.892904</td>\n",
       "      <td>00:01</td>\n",
       "    </tr>\n",
       "  </tbody>\n",
       "</table>"
      ],
      "text/plain": [
       "<IPython.core.display.HTML object>"
      ]
     },
     "metadata": {},
     "output_type": "display_data"
    }
   ],
   "source": [
    "awd_learn.fit_one_cycle(15, 1e-2, wd=0.1)"
   ]
  },
  {
   "cell_type": "code",
   "execution_count": 37,
   "id": "b2da80a0-cf5f-4c49-8c02-ed72d80e4b8a",
   "metadata": {},
   "outputs": [],
   "source": [
    "awd_learn = Learner(dls, LMModel7(len(vocab), 64, 2, 0.5),\n",
    "                loss_func=CrossEntropyLossFlat(), metrics=accuracy,\n",
    "                cbs=[ModelResetter, RNNCallback, RNNRegularizer(alpha=2, beta=1)])"
   ]
  },
  {
   "cell_type": "code",
   "execution_count": null,
   "id": "cc10f550-a6ba-42f1-b4d9-8a7c9fdac8ab",
   "metadata": {},
   "outputs": [],
   "source": []
  }
 ],
 "metadata": {
  "kernelspec": {
   "display_name": "Python 3 (ipykernel)",
   "language": "python",
   "name": "python3"
  },
  "language_info": {
   "codemirror_mode": {
    "name": "ipython",
    "version": 3
   },
   "file_extension": ".py",
   "mimetype": "text/x-python",
   "name": "python",
   "nbconvert_exporter": "python",
   "pygments_lexer": "ipython3",
   "version": "3.11.5"
  }
 },
 "nbformat": 4,
 "nbformat_minor": 5
}
